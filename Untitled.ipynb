{
 "cells": [
  {
   "cell_type": "code",
   "execution_count": 33,
   "metadata": {},
   "outputs": [
    {
     "name": "stdout",
     "output_type": "stream",
     "text": [
      "720\n",
      "viens\n",
      "720\n",
      "divi\n"
     ]
    }
   ],
   "source": [
    "from PIL import Image\n",
    "#automate incoming data capture or run every 15s for frame capture\n",
    "selectedIm = Image.open('cars4.jpg')\n",
    "#print(selectedIm.size)\n",
    "width, height = selectedIm.size\n",
    "\n",
    "def doSomethingWithThisLine(inc):\n",
    "    \n",
    "    print(height)\n",
    "    i = inc.split(',')\n",
    "    print(i[0])\n",
    "    croppedIm = selectedIm.crop((int(i[1]), int(i[2]), int(i[3]) + int(i[1]), int(i[4])+int(i[2])))\n",
    "    #print(int(i[1]), int(i[2]), int(i[3]) + int(i[1]), int(i[4])+int(i[2]))\n",
    "    imageName = str(i[0])+\".png\"\n",
    "    croppedIm.save(\"cutouts\\\\\" + str(i[0]) + \".png\")\n",
    "\n",
    "with open('parkings.txt') as file:\n",
    "   for line in file:\n",
    "    line = line.strip()\n",
    "    doSomethingWithThisLine(line)\n"
   ]
  },
  {
   "cell_type": "code",
   "execution_count": null,
   "metadata": {
    "collapsed": true
   },
   "outputs": [],
   "source": []
  }
 ],
 "metadata": {
  "kernelspec": {
   "display_name": "Python 3",
   "language": "python",
   "name": "python3"
  },
  "language_info": {
   "codemirror_mode": {
    "name": "ipython",
    "version": 3
   },
   "file_extension": ".py",
   "mimetype": "text/x-python",
   "name": "python",
   "nbconvert_exporter": "python",
   "pygments_lexer": "ipython3",
   "version": "3.5.4"
  }
 },
 "nbformat": 4,
 "nbformat_minor": 2
}
